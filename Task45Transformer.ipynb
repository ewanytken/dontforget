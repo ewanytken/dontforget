{
 "cells": [
  {
   "cell_type": "code",
   "execution_count": 15,
   "metadata": {},
   "outputs": [],
   "source": [
    "import warnings\n",
    "warnings.filterwarnings('ignore')\n",
    "import os\n",
    "import matplotlib.pyplot as plt\n",
    "%matplotlib inline\n",
    "\n",
    "import numpy as np\n",
    "import heapq\n",
    "import random\n",
    "\n",
    "import torch\n",
    "import torch.nn.functional as F\n",
    "from torch.utils.data import Dataset\n",
    "\n",
    "import torch\n",
    "from torch import nn\n",
    "from torch.nn import functional as F\n",
    "\n",
    "import youtokentome as yttm\n",
    "\n",
    "\n",
    "def load_war_and_piece_chunks(fname, chunk_size=200):\n",
    "    with open(fname, 'r', encoding=\"utf8\") as fin:\n",
    "        full_text = fin.read()\n",
    "    return [full_text[start:start + chunk_size] for start in range(0, len(full_text), chunk_size // 2)]\n",
    "\n",
    "def save_texts_to_file(texts, out_file):\n",
    "    with open(out_file, 'w', encoding=\"utf8\") as outf:\n",
    "        outf.write('\\n'.join(texts))\n",
    "\n",
    "def ensure_length(txt, out_len, pad_value):\n",
    "    if len(txt) < out_len:\n",
    "        txt = list(txt) + [pad_value] * (out_len - len(txt))\n",
    "    else:\n",
    "        txt = txt[:out_len]\n",
    "    return txt\n",
    "\n",
    "\n",
    "class LanguageModelDataset(Dataset):\n",
    "    def __init__(self, token_ids, chunk_length=100, pad_value=0):\n",
    "        self.token_ids = token_ids\n",
    "        self.chunk_length = chunk_length\n",
    "        self.pad_value = pad_value\n",
    "\n",
    "    def __len__(self):\n",
    "        return len(self.token_ids)\n",
    "\n",
    "    def __getitem__(self, item):\n",
    "        text = self.token_ids[item]\n",
    "        start_i = random.randint(0, max(0, len(text) - self.chunk_length - 1))\n",
    "        chunk = text[start_i : start_i + self.chunk_length + 1]\n",
    "\n",
    "        seed_part = chunk[:-1]\n",
    "        target_part = chunk[1:]\n",
    "\n",
    "        seed_part = ensure_length(seed_part, self.chunk_length, self.pad_value)\n",
    "        target_part = ensure_length(target_part, self.chunk_length, self.pad_value)\n",
    "\n",
    "        seed_part = np.array(seed_part)\n",
    "        target_part = np.array(target_part)\n",
    "\n",
    "        return seed_part, target_part\n",
    "\n"
   ]
  },
  {
   "cell_type": "code",
   "execution_count": 2,
   "metadata": {},
   "outputs": [
    {
     "data": {
      "text/plain": [
       "7976"
      ]
     },
     "execution_count": 2,
     "metadata": {},
     "output_type": "execute_result"
    }
   ],
   "source": [
    "all_chunks = load_war_and_piece_chunks('war_and_peace.txt')\n",
    "len(all_chunks)"
   ]
  },
  {
   "cell_type": "code",
   "execution_count": 3,
   "metadata": {},
   "outputs": [
    {
     "name": "stdout",
     "output_type": "stream",
     "text": [
      "                           \n",
      "                                   ТОМ 1\n",
      "\n",
      "                               ЧАСТЬ ПЕРВАЯ\n",
      "  \n",
      "\n",
      "                  I.\n",
      "             \n",
      "\n",
      "    - Еh bien, mon prince. Genes et Lucques ne\n"
     ]
    }
   ],
   "source": [
    "print(all_chunks[1])"
   ]
  },
  {
   "cell_type": "code",
   "execution_count": 4,
   "metadata": {},
   "outputs": [
    {
     "name": "stdout",
     "output_type": "stream",
     "text": [
      "5583\n",
      "2393\n"
     ]
    }
   ],
   "source": [
    "np.random.shuffle(all_chunks)\n",
    "\n",
    "TRAIN_SPLIT = int(len(all_chunks) * 0.7)\n",
    "train_texts = all_chunks[:TRAIN_SPLIT]\n",
    "test_texts = all_chunks[TRAIN_SPLIT:]\n",
    "\n",
    "print(len(train_texts))\n",
    "print(len(test_texts))"
   ]
  },
  {
   "cell_type": "code",
   "execution_count": 5,
   "metadata": {},
   "outputs": [],
   "source": [
    "BPE_MODEL_FILENAME = 'war_and_peace_bpe.yttm'\n",
    "os.environ[\"CUDA_VISIBLE_DEVICES\"] = \"-1\"\n"
   ]
  },
  {
   "cell_type": "code",
   "execution_count": 6,
   "metadata": {},
   "outputs": [
    {
     "data": {
      "text/plain": [
       "<youtokentome.youtokentome.BPE at 0x50181c0>"
      ]
     },
     "execution_count": 6,
     "metadata": {},
     "output_type": "execute_result"
    }
   ],
   "source": [
    "TRAIN_TEXTS_FILENAME = 'war_and_peace_bpe_train.txt'\n",
    "\n",
    "save_texts_to_file(train_texts, TRAIN_TEXTS_FILENAME)\n",
    "yttm.BPE.train(data=TRAIN_TEXTS_FILENAME, vocab_size=1000, model=BPE_MODEL_FILENAME)"
   ]
  },
  {
   "cell_type": "code",
   "execution_count": 7,
   "metadata": {},
   "outputs": [],
   "source": [
    "tokenizer = yttm.BPE(BPE_MODEL_FILENAME)\n"
   ]
  },
  {
   "cell_type": "code",
   "execution_count": 8,
   "metadata": {},
   "outputs": [
    {
     "name": "stdout",
     "output_type": "stream",
     "text": [
      "<PAD> <UNK> <BOS> <EOS> ▁ о а е и н т с л в р к , д м у п я г ь ы з б . ч й - ж e ш х ю s ц n a r i u t o щ э П l Н ф В А m d c ! ? О К Д Б p М \" Р v ) ( ' С И ; 1 ё Т h : Я 2 q f Г ъ b g Э Ч 3 0 Е 4 I 5 ] [ j Л z 8 З M 6 7 9 У A V Ж x L Ф y X Ш B Х C J P S E k D N Q Ц R w O T Ю ` F U W H G K Ь Й Z * & # Щ ▁с ▁п ▁в ▁н то ▁о ▁и ▁к го ал ра но ст ▁- ▁по ен ро ▁д ел ▁б ер ▁не во ко ка ▁м ▁ч ри ▁на ло ть на ли ла ▁з ▁е ▁т ▁у ре ва ни ся сь ак ▁что ет ▁ко ру ▁бы ны да ми ня ди ▁то хо ▁го ▁за ▁г ем ▁он ени ол ки ви ▁от каз ну ▁э е, ▁П та ти ши ▁ра ▁при ▁вы ▁Н му ▁ж ▁вс ов ле ▁В ▁про ▁А до ▁во ▁мо ля казал мо ▁как ма ▁его ры не ▁об ▁это ▁сказал сто ль ▁а й, ере ▁до ▁кото ▁О ▁я ▁К ▁сво ▁Д ▁кня ▁Б али у, ▁ни м, ше чи сти ▁но де по ста тел ча ▁из си ве лу ала ▁d ще ▁Ан вори че ▁ка ▁М .. ▁под ... es ска жи ша за лся ско я, ▁со лы енно зь ▁ли ou сть ▁ст ▁хо ▁ви ▁Пь ▁так ме ты ▁ру ря дел ▁p re ень га лю ▁Р ски уд сно ▁( ▁раз ги те ку ▁все же ▁l ▁ва со en ▁се вши ▁было ▁c вал on ту ▁С гда бе ▁И тель ▁пос ▁говори щи ду ▁сто ели ▁Ро ать ▁пре ▁Пьер вы дре ▁дру ство лько ▁ему дно ▁пере ▁Андре ▁Т ▁зна ю, ▁Росто би ез ар ▁ф вая ▁она ▁a ▁которы ▁всё ▁Он сь, ▁же ▁m а, вер ▁был ▁са ▁гла бо чал ву ▁ми сп жени ▁сп ▁буд ▁те шел ▁ве er ▁Бо кой ▁ду ▁бол ▁(сно ▁лю х, ▁князь ды ▁ста ▁(сноска ▁лиц е. бы фи ▁голо ть, ▁вз жа ▁На ба ▁de й. в, мот го, ▁1 енны ▁та т, ▁Я нц ▁дел ▁s ться ми, ▁гра елов гля са ▁которо ало et ai -то м. ▁си ей qu ходи ▁ш ▁да ▁оп жно ▁\" ▁еще ▁только ха ▁ее ▁v гу ▁ты ▁ро лов ▁ре ▁улы ▁рас ne ера тельно ▁пол рем ▁Кня ▁Г шь нно ous пи рел ▁свои я. ▁им ▁qu ▁и, вно ясь ный ▁для ▁чу ▁ме ▁оста елове ерь an ▁боль ▁глаза ▁По ▁челове жал к, ▁Дени рати оло ▁ле te фиц ▁себ ▁жи сов су ять аль ным ▁слу дя ка, ▁ц ▁ло le па ▁Ч ▁сказала ▁Э ался ранц ес ель ств роси ▁эти ▁ма его ман ет, на, ▁Ростов нул уз ▁княз ▁он, ▁была ск ▁говорил ▁после ▁мен лась ▁мне ie ▁него ком ▁сдел нима ▁х ▁пер вля лись вать ▁t ца ех ражени ело ▁2 ▁офиц ▁врем шо ▁Доло ▁Андрей ar ные ▁стра чего ▁дол ▁сло ва, ▁граф ▁мог и, ▁сол ▁Долохо ▁были н, ▁моло ▁Е ▁пред ▁оч ща ▁n ▁бо ного ему ▁ча сту ▁ком те, ▁Князь ▁улыб ▁пи ▁лицо ▁одно зна ения нулся вор ▁чув ▁чтобы раз нов in ▁et казы ▁комна перь ▁исп жет вет ю. ▁мы ▁когда ранцуз ▁Денисов ▁уже ▁[ ▁Но руг об ▁ба ▁Ни ▁f ▁смот ▁будто нови ющи ▁Ва х. ела дь нт ались ▁вас лен ▁му чно ▁солда ▁кра is ал, ав ки, вой ▁хоро вше дин ▁вер ров ков ром ▁который ent ▁воз ят ▁они ▁княж ▁друго ▁пу ную се ур арь ▁перед ▁Ми ная ▁очень ▁ту me ▁этого ▁меня мы ▁сов ▁le ▁Она том ▁од стви ▁Ку ▁тем est ▁Что ▁опять ных ной ▁que ▁Л ▁мину ▁ар om у. our ение ку, ▁поло ы, ▁гу ▁себя ▁Анна говори ми. ▁la ▁теперь ▁пра ▁спроси он ▁француз ▁отве ский ют ▁су жели ▁стоя ▁Вы ▁Марь ▁вой ▁жен ▁вп ▁обе тя дет ▁чем oi ее ▁то, ▁этот ▁поч ▁ничего дол ▁кри ▁З мал ▁де ние ▁ожи ▁зак сте ▁Во ▁Не ▁vous туз ▁j ую дар нь ния ▁которые лыш ▁нес ▁Мо ▁Это ▁Ната вали л, ▁коман ▁подо ▁M ▁или ▁Нико сили му, пра ▁Миха ▁двер ▁ch ке ▁сер ▁огля ▁Ба ся, ▁взгля ▁сы жен ▁Михай ▁князя ur ▁ша ▁сле кры ского кон ▁Бори ▁Ну, il ▁чувство ▁хотел вший ▁Ко при se ▁их ▁u ▁Кутуз ▁быть as соб ▁продол ▁своего ▁себе ными ▁ла но, ▁мал ▁види ▁Как ▁останови ▁бра ▁само воль ▁разго из ▁дело ▁пла спо ▁взя рая стро вл д, ▁нас ▁чи про ▁Пав ▁бе кий ▁l' енер стоя ▁бу ▁команди ва. друг ▁без ть. ▁Баг ▁вес ▁b ▁вот чь ▁всех на. ▁Пьера лаго ▁па ый ▁лоша ▁госу ▁жиз ▁зам ▁Никола ▁свою it част ▁мол ▁будет ▁Михайлов да, ▁время ▁обрати казать ▁ну ▁люб ▁ку ▁Баграти сы ▁арми ▁он. стно жд ▁Да ▁молодо пу ien вшись ▁сторо ▁доро ▁У зы удь ▁особ кая ▁каз ais ▁Со ним и. кто ch мер оль au ▁пе ственно ▁сидел ▁где вала ▁кро ▁друг ем, сколько ▁всегда юще ли, ▁более жала ▁вам ▁ок ▁начал ▁сме вшие ▁тре ▁кре кра тер ▁нико ▁выражени ▁улыба ▁A цо ехал жду ▁надо им дер ▁mon ны, ▁спросил стре ется лет ▁Васили ▁что-то ские ▁спо ▁ши ▁рука ▁Павлов кое ▁может ▁Ж ▁расс лось ▁генер ▁мой ▁Пьер, ▁уви ▁3 гра ливо ▁непри ▁своей ▁видел ▁кто 'est ▁вдруг ▁малень ▁впере ▁, ▁ди или ном луч стави ▁офицер ▁други ку. шла ▁сла ра, дом ▁ско us каза р, ▁пото ▁дума ▁вели ▁гости ерез та, ской дал шь, ▁день ▁рус ▁его. виц ▁свое вари ете ▁обра ▁je ▁того, ▁есть ▁g ▁графи\n"
     ]
    }
   ],
   "source": [
    "print(' '.join(tokenizer.vocab()))"
   ]
  },
  {
   "cell_type": "code",
   "execution_count": 9,
   "metadata": {},
   "outputs": [
    {
     "name": "stdout",
     "output_type": "stream",
     "text": [
      "[[961, 220, 232, 871, 152, 180, 175, 26, 157, 273, 30, 269, 17, 172, 166, 687, 183, 506, 151, 539, 260, 372, 477, 165, 164, 24, 7, 180, 19, 411, 27, 159, 428, 194, 183, 368, 12, 240, 16, 283, 411, 167, 211, 198, 178, 27, 159, 873, 190, 225, 459, 733, 265, 986, 183, 817, 399, 773, 159, 540, 533, 77, 159, 841, 686, 153, 652, 23, 160, 970, 27, 494, 246, 29, 225, 215, 362, 368, 9, 150]]\n"
     ]
    }
   ],
   "source": [
    "print(tokenizer.encode(train_texts[:1]))"
   ]
  },
  {
   "cell_type": "code",
   "execution_count": 11,
   "metadata": {},
   "outputs": [
    {
     "data": {
      "image/png": "[encoded data removed]",
      "text/plain": [
       "<Figure size 432x288 with 1 Axes>"
      ]
     },
     "metadata": {
      "needs_background": "light"
     },
     "output_type": "display_data"
    }
   ],
   "source": [
    "train_token_ids = tokenizer.encode(train_texts, bos=True, eos=True) #begin of seq, end of seq\n",
    "test_token_ids = tokenizer.encode(test_texts, bos=True, eos=True)\n",
    "plt.hist([len(sent) for sent in train_token_ids], bins=30)\n",
    "plt.title(\"Distribution of fragment's length in tokens\")\n",
    "plt.yscale('log')"
   ]
  },
  {
   "cell_type": "code",
   "execution_count": 12,
   "metadata": {},
   "outputs": [
    {
     "data": {
      "image/png": "[encoded data removed]",
      "text/plain": [
       "<Figure size 432x288 with 1 Axes>"
      ]
     },
     "metadata": {
      "needs_background": "light"
     },
     "output_type": "display_data"
    }
   ],
   "source": [
    "token_counts = np.bincount([token_id for text in train_token_ids for token_id in text])\n",
    "plt.hist(token_counts, bins=100)\n",
    "plt.title('Distribution of used tokens numbers')\n",
    "plt.yscale('log')"
   ]
  },
  {
   "cell_type": "code",
   "execution_count": 13,
   "metadata": {},
   "outputs": [
    {
     "name": "stdout",
     "output_type": "stream",
     "text": [
      "Number with unknown N-gramms 2\n"
     ]
    }
   ],
   "source": [
    "unknown_subwords_in_test = sum(1 for text in test_token_ids for token_id in text if token_id == 1)\n",
    "print('Number with unknown N-gramms', unknown_subwords_in_test)"
   ]
  },
  {
   "cell_type": "code",
   "execution_count": 16,
   "metadata": {},
   "outputs": [],
   "source": [
    "CHUNK_LENGTH = 80\n",
    "\n",
    "train_dataset = LanguageModelDataset(train_token_ids, chunk_length=CHUNK_LENGTH)\n",
    "test_dataset = LanguageModelDataset(test_token_ids, chunk_length=CHUNK_LENGTH)"
   ]
  },
  {
   "cell_type": "code",
   "execution_count": 17,
   "metadata": {},
   "outputs": [
    {
     "data": {
      "text/plain": [
       "(array([  2, 961, 220, 232, 871, 152, 180, 175,  26, 157, 273,  30, 269,\n",
       "         17, 172, 166, 687, 183, 506, 151, 539, 260, 372, 477, 165, 164,\n",
       "         24,   7, 180,  19, 411,  27, 159, 428, 194, 183, 368,  12, 240,\n",
       "         16, 283, 411, 167, 211, 198, 178,  27, 159, 873, 190, 225, 459,\n",
       "        733, 265, 986, 183, 817, 399, 773, 159, 540, 533,  77, 159, 841,\n",
       "        686, 153, 652,  23, 160, 970,  27, 494, 246,  29, 225, 215, 362,\n",
       "        368,   9]),\n",
       " array([961, 220, 232, 871, 152, 180, 175,  26, 157, 273,  30, 269,  17,\n",
       "        172, 166, 687, 183, 506, 151, 539, 260, 372, 477, 165, 164,  24,\n",
       "          7, 180,  19, 411,  27, 159, 428, 194, 183, 368,  12, 240,  16,\n",
       "        283, 411, 167, 211, 198, 178,  27, 159, 873, 190, 225, 459, 733,\n",
       "        265, 986, 183, 817, 399, 773, 159, 540, 533,  77, 159, 841, 686,\n",
       "        153, 652,  23, 160, 970,  27, 494, 246,  29, 225, 215, 362, 368,\n",
       "          9, 150]))"
      ]
     },
     "execution_count": 17,
     "metadata": {},
     "output_type": "execute_result"
    }
   ],
   "source": [
    "train_dataset[0]"
   ]
  },
  {
   "cell_type": "code",
   "execution_count": 18,
   "metadata": {},
   "outputs": [
    {
     "data": {
      "text/plain": [
       "[', радостно и злобно из-под черных усов оскаливая свои белые зубы. - Я бы убил его, кабы не отняли. - Да что ж ты кричишь, успокойся, - говорил Ростов: - вот опять кровь пошла. Постой же, перебинто',\n",
       " 'радостно и злобно из-под черных усов оскаливая свои белые зубы. - Я бы убил его, кабы не отняли. - Да что ж ты кричишь, успокойся, - говорил Ростов: - вот опять кровь пошла. Постой же, перебинто<EOS>']"
      ]
     },
     "execution_count": 18,
     "metadata": {},
     "output_type": "execute_result"
    }
   ],
   "source": [
    "tokenizer.decode(list(train_dataset[0]))"
   ]
  },
  {
   "cell_type": "code",
   "execution_count": 23,
   "metadata": {},
   "outputs": [
    {
     "data": {
      "text/plain": [
       "tensor([[0., -inf, -inf, -inf, -inf, -inf, -inf, -inf, -inf, -inf],\n",
       "        [0., 0., -inf, -inf, -inf, -inf, -inf, -inf, -inf, -inf],\n",
       "        [0., 0., 0., -inf, -inf, -inf, -inf, -inf, -inf, -inf],\n",
       "        [0., 0., 0., 0., -inf, -inf, -inf, -inf, -inf, -inf],\n",
       "        [0., 0., 0., 0., 0., -inf, -inf, -inf, -inf, -inf],\n",
       "        [0., 0., 0., 0., 0., 0., -inf, -inf, -inf, -inf],\n",
       "        [0., 0., 0., 0., 0., 0., 0., -inf, -inf, -inf],\n",
       "        [0., 0., 0., 0., 0., 0., 0., 0., -inf, -inf],\n",
       "        [0., 0., 0., 0., 0., 0., 0., 0., 0., -inf],\n",
       "        [0., 0., 0., 0., 0., 0., 0., 0., 0., 0.]])"
      ]
     },
     "execution_count": 23,
     "metadata": {},
     "output_type": "execute_result"
    }
   ],
   "source": [
    "def make_target_dependency_mask(length):\n",
    "    full_mask = torch.ones(length, length)\n",
    "    ignore_mask = torch.tril(full_mask) < 1\n",
    "    full_mask.masked_fill_(ignore_mask, float('-inf'))\n",
    "    full_mask.masked_fill_(~ignore_mask, 0)\n",
    "    return full_mask\n",
    "make_target_dependency_mask(10)"
   ]
  },
  {
   "cell_type": "code",
   "execution_count": null,
   "metadata": {},
   "outputs": [],
   "source": []
  }
 ],
 "metadata": {
  "kernelspec": {
   "display_name": "Python 3",
   "language": "python",
   "name": "python3"
  },
  "language_info": {
   "codemirror_mode": {
    "name": "ipython",
    "version": 3
   },
   "file_extension": ".py",
   "mimetype": "text/x-python",
   "name": "python",
   "nbconvert_exporter": "python",
   "pygments_lexer": "ipython3",
   "version": "3.8.3"
  }
 },
 "nbformat": 4,
 "nbformat_minor": 4
}
