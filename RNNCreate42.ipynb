{
 "cells": [
  {
   "cell_type": "code",
   "execution_count": 2,
   "metadata": {},
   "outputs": [],
   "source": [
    "import os\n",
    "\n",
    "import numpy as np\n",
    "import matplotlib.pyplot as plt\n",
    "%matplotlib inline\n",
    "\n",
    "import warnings\n",
    "warnings.simplefilter('ignore')\n"
   ]
  },
  {
   "cell_type": "code",
   "execution_count": 17,
   "metadata": {},
   "outputs": [],
   "source": [
    "with open(\"russian_names.txt\") as input_file:\n",
    "    names = input_file.read()[:-1].split('\\n')\n",
    "    names = [' ' + line for line in names]"
   ]
  },
  {
   "cell_type": "code",
   "execution_count": 18,
   "metadata": {},
   "outputs": [
    {
     "data": {
      "text/plain": [
       "[' Ababko',\n",
       " ' Abaev',\n",
       " ' Abagyan',\n",
       " ' Abaidulin',\n",
       " ' Abaidullin',\n",
       " ' Abaimoff',\n",
       " ' Abaimov',\n",
       " ' Abakeliya',\n",
       " ' Abakovsky',\n",
       " ' Abakshin',\n",
       " ' Abakumoff',\n",
       " ' Abakumov',\n",
       " ' Abakumtsev',\n",
       " ' Abakushin',\n",
       " ' Abalakin']"
      ]
     },
     "execution_count": 18,
     "metadata": {},
     "output_type": "execute_result"
    }
   ],
   "source": [
    "names[:15]"
   ]
  },
  {
   "cell_type": "code",
   "execution_count": 22,
   "metadata": {},
   "outputs": [
    {
     "data": {
      "text/plain": [
       "(array([1.000e+00, 5.300e+01, 1.590e+02, 0.000e+00, 6.110e+02, 1.213e+03,\n",
       "        1.730e+03, 0.000e+00, 1.847e+03, 1.614e+03, 0.000e+00, 1.142e+03,\n",
       "        5.870e+02, 2.700e+02, 0.000e+00, 1.030e+02, 3.800e+01, 0.000e+00,\n",
       "        8.000e+00, 5.000e+00, 2.300e+01, 0.000e+00, 1.000e+00, 2.000e+00,\n",
       "        1.000e+00]),\n",
       " array([ 3.  ,  3.72,  4.44,  5.16,  5.88,  6.6 ,  7.32,  8.04,  8.76,\n",
       "         9.48, 10.2 , 10.92, 11.64, 12.36, 13.08, 13.8 , 14.52, 15.24,\n",
       "        15.96, 16.68, 17.4 , 18.12, 18.84, 19.56, 20.28, 21.  ]),\n",
       " <a list of 25 Patch objects>)"
      ]
     },
     "execution_count": 22,
     "metadata": {},
     "output_type": "execute_result"
    },
    {
     "data": {
      "image/png": "[encoded data removed]",
      "text/plain": [
       "<Figure size 432x288 with 1 Axes>"
      ]
     },
     "metadata": {
      "needs_background": "light"
     },
     "output_type": "display_data"
    }
   ],
   "source": [
    "plt.title('Name length distribution')\n",
    "plt.hist(list(map(len, names)), bins=25)"
   ]
  },
  {
   "cell_type": "code",
   "execution_count": 24,
   "metadata": {},
   "outputs": [
    {
     "name": "stdout",
     "output_type": "stream",
     "text": [
      "['l', 'd', 'J', 't', 'D', 'H', 'P', 'Y', 'f', 'c', 's', 'b', 'C', 'u', 'k', 'U', 'B', '-', 'j', 'N', 'Z', 'w', 'O', 'F', 'y', '\\xa0', 'S', ' ', ',', 'i', 'h', 'E', 'm', 'R', 'g', 'a', 'V', 'M', 'В', 'K', 'L', 'v', 'I', 'z', 'p', \"'\", 'n', 'e', 'r', 'A', 'o', 'G', 'T']\n",
      "num_tokens =  53\n"
     ]
    }
   ],
   "source": [
    "tokens = list(set(''.join(names)))\n",
    "print(tokens)\n",
    "num_tokens = len(tokens)\n",
    "print('num_tokens = ', num_tokens)"
   ]
  },
  {
   "cell_type": "code",
   "execution_count": 11,
   "metadata": {},
   "outputs": [],
   "source": [
    "token_to_id = {token: idx for idx, token in enumerate(tokens)}"
   ]
  },
  {
   "cell_type": "code",
   "execution_count": 12,
   "metadata": {},
   "outputs": [
    {
     "data": {
      "text/plain": [
       "{'l': 0,\n",
       " 'd': 1,\n",
       " 'J': 2,\n",
       " 't': 3,\n",
       " 'D': 4,\n",
       " 'H': 5,\n",
       " 'P': 6,\n",
       " 'Y': 7,\n",
       " 'f': 8,\n",
       " 'c': 9,\n",
       " 's': 10,\n",
       " 'b': 11,\n",
       " 'C': 12,\n",
       " 'u': 13,\n",
       " 'k': 14,\n",
       " 'U': 15,\n",
       " 'B': 16,\n",
       " '-': 17,\n",
       " 'j': 18,\n",
       " 'N': 19,\n",
       " 'Z': 20,\n",
       " 'w': 21,\n",
       " 'O': 22,\n",
       " 'F': 23,\n",
       " 'y': 24,\n",
       " '\\xa0': 25,\n",
       " 'S': 26,\n",
       " ' ': 27,\n",
       " ',': 28,\n",
       " 'i': 29,\n",
       " 'h': 30,\n",
       " 'E': 31,\n",
       " 'm': 32,\n",
       " 'R': 33,\n",
       " 'g': 34,\n",
       " 'a': 35,\n",
       " 'V': 36,\n",
       " 'M': 37,\n",
       " 'В': 38,\n",
       " 'K': 39,\n",
       " 'L': 40,\n",
       " 'v': 41,\n",
       " 'I': 42,\n",
       " 'z': 43,\n",
       " 'p': 44,\n",
       " \"'\": 45,\n",
       " 'n': 46,\n",
       " 'e': 47,\n",
       " 'r': 48,\n",
       " 'A': 49,\n",
       " 'o': 50,\n",
       " 'G': 51,\n",
       " 'T': 52}"
      ]
     },
     "execution_count": 12,
     "metadata": {},
     "output_type": "execute_result"
    }
   ],
   "source": [
    "token_to_id"
   ]
  },
  {
   "cell_type": "code",
   "execution_count": 29,
   "metadata": {},
   "outputs": [
    {
     "name": "stdout",
     "output_type": "stream",
     "text": [
      "OK\n"
     ]
    }
   ],
   "source": [
    "assert len(tokens) == len(token_to_id)\n",
    "\n",
    "for i in range(num_tokens):\n",
    "    assert token_to_id[tokens[i]] == i\n",
    "print(\"OK\")"
   ]
  },
  {
   "cell_type": "code",
   "execution_count": 80,
   "metadata": {},
   "outputs": [],
   "source": [
    "def to_matrix(data, token_dict, max_len=None, dtype='int32', batch_first=True):\n",
    "    max_len = max_len or max(map(len, data))\n",
    "    data_ix = np.zeros([len(data), max_len], dtype) + token_dict[' ']\n",
    "    \n",
    "    for i in range(len(data)):\n",
    "        line_ix = [token_dict[c] for c in data[i]]\n",
    "        data_ix[i, :len(line_ix)] = line_ix\n",
    "        \n",
    "    if not batch_first:\n",
    "        data_ix = np.transpose(data_ix)\n",
    "        \n",
    "    return data_ix"
   ]
  },
  {
   "cell_type": "code",
   "execution_count": 81,
   "metadata": {},
   "outputs": [
    {
     "name": "stdout",
     "output_type": "stream",
     "text": [
      " Ababko\n",
      " Chihachev\n",
      " Isaikov\n",
      " Nakhamkin\n",
      " Ustenko\n",
      "[[27 49 11 35 11 14 50 27 27 27]\n",
      " [27 12 30 29 30 35  9 30 47 41]\n",
      " [27 42 10 35 29 14 50 41 27 27]\n",
      " [27 19 35 14 30 35 32 14 29 46]\n",
      " [27 15 10  3 47 46 14 50 27 27]]\n"
     ]
    }
   ],
   "source": [
    "print('\\n'.join(names[::2000]))\n",
    "print(to_matrix(names[::2000], token_to_id))\n"
   ]
  },
  {
   "cell_type": "code",
   "execution_count": null,
   "metadata": {},
   "outputs": [],
   "source": []
  }
 ],
 "metadata": {
  "kernelspec": {
   "display_name": "Python 3",
   "language": "python",
   "name": "python3"
  },
  "language_info": {
   "codemirror_mode": {
    "name": "ipython",
    "version": 3
   },
   "file_extension": ".py",
   "mimetype": "text/x-python",
   "name": "python",
   "nbconvert_exporter": "python",
   "pygments_lexer": "ipython3",
   "version": "3.8.3"
  }
 },
 "nbformat": 4,
 "nbformat_minor": 4
}
