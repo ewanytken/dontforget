{
 "cells": [
  {
   "cell_type": "code",
   "execution_count": null,
   "metadata": {},
   "outputs": [],
   "source": [
    "import os\n",
    "\n",
    "import numpy as np\n",
    "import matplotlib.pyplot as plt\n",
    "%matplotlib inline\n",
    "\n",
    "import warnings\n",
    "warnings.simplefilter('ignore')\n",
    "\n",
    "\n"
   ]
  },
  {
   "cell_type": "code",
   "execution_count": 2,
   "metadata": {},
   "outputs": [
    {
     "data": {
      "text/plain": [
       "(array([3.070e+02, 1.646e+03, 3.271e+03, 3.924e+03, 3.910e+03, 3.803e+03,\n",
       "        2.850e+03, 2.336e+03, 2.296e+03, 2.077e+03, 1.803e+03, 1.581e+03,\n",
       "        1.291e+03, 1.097e+03, 9.680e+02, 8.660e+02, 6.650e+02, 4.660e+02,\n",
       "        3.690e+02, 3.510e+02, 2.350e+02, 4.600e+01, 3.000e+00, 1.000e+00,\n",
       "        3.000e+00]),\n",
       " array([ 10.  ,  26.12,  42.24,  58.36,  74.48,  90.6 , 106.72, 122.84,\n",
       "        138.96, 155.08, 171.2 , 187.32, 203.44, 219.56, 235.68, 251.8 ,\n",
       "        267.92, 284.04, 300.16, 316.28, 332.4 , 348.52, 364.64, 380.76,\n",
       "        396.88, 413.  ]),\n",
       " <a list of 25 Patch objects>)"
      ]
     },
     "execution_count": 2,
     "metadata": {},
     "output_type": "execute_result"
    },
    {
     "data": {
      "image/png": "[encoded data removed]",
      "text/plain": [
       "<Figure size 432x288 with 1 Axes>"
      ]
     },
     "metadata": {
      "needs_background": "light"
     },
     "output_type": "display_data"
    }
   ],
   "source": [
    "with open(\"author_quotes.txt\") as input_file:\n",
    "    names = input_file.read()[:-1].split('\\n')\n",
    "    names = [' ' + line for line in names]\n",
    "\n",
    "names[:15]\n",
    "\n",
    "plt.title('Name length distribution')\n",
    "plt.hist(list(map(len, names)), bins=25)\n",
    "\n"
   ]
  },
  {
   "cell_type": "code",
   "execution_count": 3,
   "metadata": {},
   "outputs": [
    {
     "name": "stdout",
     "output_type": "stream",
     "text": [
      "['a', 'v', 'W', 'L', 'h', 'X', 'g', '1', '=', '+', 'I', 'Ј', 'p', '*', 'P', '-', 'N', '!', 'b', '9', 'n', 'J', 'z', ',', 'l', 'Ђ', 'j', '6', 'k', '3', 'o', 'D', 'E', ')', 'C', '(', 'Z', 'x', 'y', '8', 'c', 'K', 'T', '2', 'R', 'Q', 'm', 'M', '7', ' ', 'O', 'u', '/', '&', '#', ';', 'B', '\"', 'H', '4', '”', '?', 'w', 'S', 'q', 'A', 'd', 'r', \"'\", 'f', 'F', 's', 'i', 'G', 't', 'Y', 'e', '%', '$', '.', ':', '™', '0', '5', 'в', 'U', 'В', 'V']\n",
      "num_tokens =  88\n"
     ]
    }
   ],
   "source": [
    "tokens = list(set(''.join(names)))\n",
    "print(tokens)\n",
    "num_tokens = len(tokens)\n",
    "print('num_tokens = ', num_tokens)\n",
    "\n"
   ]
  },
  {
   "cell_type": "code",
   "execution_count": 5,
   "metadata": {},
   "outputs": [
    {
     "name": "stdout",
     "output_type": "stream",
     "text": [
      "OK\n",
      " If you live to be a hundred, I want to live to be a hundred minus one day so I never have to live without you.\n",
      " In the beginning, everybody that gets to work with me, thinks I'm nice. But three weeks later, they hear a bell ringing. Then they realise I meant everything I said during that first week. It's not my fault people are not taking me serious from the first moment.\n",
      " I tend to get comfortable with the dialogue and find out who the person is in the script and try to hit that. People are sort of independent of their occupations and their pastimes. You don't play a politician or a fireman or a cowboy - you just play a person.\n",
      " 'Tis love that makes the world go round, my baby.\n",
      " Some of these kids just don't plain know how good they are: how smart and how much they have to say. You can tell them. You can shine that light on them, one human interaction at a time.\n",
      " I was able to realize that I definitely want to make sure that I use my voice, as it gets bigger and bigger, in the world for good.\n",
      " It seems, in fact, as though the second half of a man's life is made up of nothing, but the habits he has accumulated during the first half.\n",
      " The best and most beautiful things in the world cannot be seen or even touched - they must be felt with the heart.\n",
      " I never wanted to be an actor. I got stuck in it and kind of liked what I was doing.\n",
      " Listening is more important than talking. Just hit your mark and believe what you say. Just listen to people and react to what they are saying.\n",
      " Depression begins with disappointment. When disappointment festers in our soul, it leads to discouragement.\n",
      " The easiest thing to be in the world is you. The most difficult thing to be is what other people want you to be. Don't let them put you in that position.\n",
      " Think twice before burdening a friend with a secret.\n",
      " Religion is what keeps the poor from murdering the rich.\n",
      " Acting is a tough industry. There are a lot of kids out there at drama schools and not a lot of money about, especially as the arts are being cut.\n",
      " I promised never to let the Rwandan Genocide die because I knew the Rwandans didn't have much power internationally and certainly didn't have the resources. I felt it was my duty having witnessed it, and having stayed to witness it, that I had to talk about it and keep it going.\n",
      " Dolce & Gabbana is like our child. The editing of a collection before a show is a tough call, as we would like to show everything!\n",
      " I get meals when I can, or I have protein shakes.\n",
      " I'm from Hollywood; I'm too dumb to be nervous about New York.\n",
      "[[49 10 69 ... 49 49 49]\n",
      " [49 10 20 ... 49 49 49]\n",
      " [49 10 49 ... 49 49 49]\n",
      " ...\n",
      " [49 31 30 ... 49 49 49]\n",
      " [49 10 49 ... 49 49 49]\n",
      " [49 10 68 ... 49 49 49]]\n"
     ]
    }
   ],
   "source": [
    "token_to_id = {token: idx for idx, token in enumerate(tokens)}\n",
    "\n",
    "token_to_id\n",
    "\n",
    "assert len(tokens) == len(token_to_id)\n",
    "\n",
    "for i in range(num_tokens):\n",
    "    assert token_to_id[tokens[i]] == i\n",
    "print(\"OK\")\n",
    "\n",
    "def to_matrix(data, token_dict, max_len=None, dtype='int32', batch_first=True):\n",
    "    max_len = max_len or max(map(len, data))\n",
    "    data_ix = np.zeros([len(data), max_len], dtype) + token_dict[' ']\n",
    "    \n",
    "    for i in range(len(data)):\n",
    "        line_ix = [token_dict[c] for c in data[i]]\n",
    "        data_ix[i, :len(line_ix)] = line_ix\n",
    "        \n",
    "    if not batch_first:\n",
    "        data_ix = np.transpose(data_ix)\n",
    "        \n",
    "    return data_ix\n",
    "\n",
    "print('\\n'.join(names[::2000]))\n",
    "print(to_matrix(names[::2000], token_to_id))\n"
   ]
  },
  {
   "cell_type": "code",
   "execution_count": 15,
   "metadata": {},
   "outputs": [
    {
     "name": "stdout",
     "output_type": "stream",
     "text": [
      "413\n"
     ]
    }
   ],
   "source": [
    "\n",
    "import torch, torch.nn as nn\n",
    "import torch.nn.functional as F\n",
    "from torch.autograd import Variable\n",
    "\n",
    "class CharRNNCell(nn.Module):\n",
    "    def __init__(self, num_tokens=len(tokens), embedding_size=32, rnn_num_units=128):\n",
    "        super(self.__class__, self).__init__()\n",
    "        self.num_units = rnn_num_units #like hidden layers\n",
    "        self.embedding = nn.Embedding(num_tokens, embedding_size)\n",
    "        self.rnn_update = nn.Linear(embedding_size + rnn_num_units, rnn_num_units)\n",
    "        self.rnn_to_logits = nn.Linear(rnn_num_units, num_tokens)\n",
    "    \n",
    "    def forward(self, x, h_prev):\n",
    "        x_emb = self.embedding(x)\n",
    "        x_and_h = torch.cat([x_emb, h_prev], dim=1)\n",
    "        h_next = self.rnn_update(x_and_h)\n",
    "        \n",
    "        h_next = F.tanh(h_next)\n",
    "        \n",
    "        logits = self.rnn_to_logits(h_next)\n",
    "        \n",
    "        return h_next, F.log_softmax(logits, -1)\n",
    "    \n",
    "    def initial_state(self, batch_size):\n",
    "        return Variable(torch.zeros(batch_size, self.num_units))\n",
    "    \n",
    "    \n",
    "def rnn_loop(rnn, batch_index):\n",
    "    batch_size, max_length = batch_index.size()\n",
    "    hid_state = rnn.initial_state(batch_size)\n",
    "    logprobs = []\n",
    "    \n",
    "    for x_t in batch_index.transpose(0,1):\n",
    "        hid_state, logp_next = rnn(x_t, hid_state)\n",
    "        logprobs.append(logp_next)\n",
    "        \n",
    "    return torch.stack(logprobs, dim=1)\n",
    "\n",
    "from IPython.display import clear_output\n",
    "from random import sample\n",
    "\n",
    "char_rnn = CharRNNCell()\n",
    "opt = torch.optim.Adam(char_rnn.parameters())\n",
    "history = []\n",
    "\n",
    "MAX_LENGTH = max(map(len, names))\n",
    "print(MAX_LENGTH)"
   ]
  },
  {
   "cell_type": "code",
   "execution_count": 16,
   "metadata": {},
   "outputs": [
    {
     "data": {
      "image/png": "[encoded data removed]",
      "text/plain": [
       "<Figure size 432x288 with 1 Axes>"
      ]
     },
     "metadata": {
      "needs_background": "light"
     },
     "output_type": "display_data"
    }
   ],
   "source": [
    "\n",
    "for i in range(300):\n",
    "    batch_ix = to_matrix(sample(names, 32), token_to_id, max_len = MAX_LENGTH)\n",
    "    batch_ix = torch.tensor(batch_ix, dtype = torch.int64)\n",
    "    \n",
    "    logp_seq = rnn_loop(char_rnn, batch_ix)\n",
    "    \n",
    "    predictions_logp = logp_seq[:, :-1]\n",
    "    actual_next_tokens = batch_ix[:, 1:]\n",
    "    \n",
    "    loss = -torch.mean(torch.gather(predictions_logp, dim=2, index=actual_next_tokens[:, :, None]))\n",
    "    \n",
    "    loss.backward()\n",
    "    opt.step()\n",
    "    opt.zero_grad()\n",
    "    \n",
    "    history.append(loss.data.numpy())\n",
    "    \n",
    "    if(i + 1) % 100 == 0:\n",
    "        clear_output(True)\n",
    "        plt.plot(history, label='loss')\n",
    "        plt.legend()\n",
    "        plt.show()\n",
    "\n",
    "assert np.mean(history[:10]) > np.mean(history[-10:]), \"RNN didnt converge\"\n",
    "\n",
    "\n"
   ]
  },
  {
   "cell_type": "code",
   "execution_count": 17,
   "metadata": {},
   "outputs": [
    {
     "name": "stdout",
     "output_type": "stream",
     "text": [
      " Ive  aler mof to the the ther ant the   ast ous s of and the don eng our ce pond the an is the in ane d ar coc the po the me co the thand at the ing sor ber insthe  an ou and oo  e tin  as the the the and the  uat tourtin the e the tinge ar the the to thang  alonor the dind  isst le d the what  anthave the thates  at oug oole son erers the merhat ans ion wo in  d thang and boris the out  ang bo wo lou therer \n",
      " I                                                                                                                                                                                                                                                                                                                                                                                                                           \n",
      " Ise the the me be to  sonore ind ang so the i it    is  ouven sor ane the ant wore oy ou tour thee ss the wor  the  the en lon tou the y arts winthamas lo  an the the dot als  e  and.                                                                                                                                                                                                                                     \n",
      " I                                                                                                                                                                                                                                                                                                                                                                                                                           \n",
      " I the the dhe the we t af ane pond soulin mont ang the ant  orerice wess at anle in t ang angoo ton e the thand olor matit to are ineak in an set and  art  the the be the themed  oue sing wond the s at it ont aneece  ansure the   an the se co  ouct ing are at fou yicithe toy ind tothe tou the whe the the th the the ther the the the we oor Ie the to me to t  mis ther thange it an there t wr the aet the the the\n",
      " I the wo tof er ing thind toang the althere ar.                                                                                                                                                                                                                                                                                                                                                                             \n",
      " I                                                                                                                                                                                                                                                                                                                                                                                                                           \n",
      " Ie won ou tore e and wat are ther eothe the pod al cu ererens anle  e   ar weng the g and the kouret and tore is ad dhe an the wond and ming aslit inm me ar the sor eeat e te tou at the the spoe to the the  e of  and tout int  an thend in cove the in tot inge the the thm tome s and sul ing an ing the con there the sonre ind and  ant                                                                              \n",
      " Io in mil ce wer ang the the ton woe foe pas  ar er  oris doret  y                                                                                                                                                                                                                                                                                                                                                          \n",
      " Towss  at  oe  ang fe inescin wo  ri ton aalinl aomar ant the the sn lris ane  alan  ino  ore anthe the mere wusd ome w ange solle bor the at oo i.                                                                                                                                                                                                                                                                         \n",
      " Pak ing the serthe at   a we woreng tot if fhin'  and  ound and the the thous the ant ine wit in the.e                                                                                                                                                                                                                                                                                                                      \n",
      " Pak win thet ar ores at an  oulous pe ing ang an end dinu tor    in and me in e toe that won the pilnd  er tont e the at  the  ou tou d ton the the inge the wond an the song the ce  ang the con es te the theestomoret beine the ind inecs any pit moulatrer iat and ther the ge there oor tinow ang  in the be mond se e the the  oo  ang at to tor tor the the  as won   we  ind e an ave yore the aang tha thind e that\n",
      " Pak int ou thet  our ou t and tore berat ar we toris e pi tele ss to banler oule dr son theat mout on  y an ang  ant iale tily yhat thene ang  an the in end pat was ont arerite ing  mand  o  ano ant fo  an the bou that to wou the ti pe tore thare ther  f toe the thller f the toe tour arere at  is whe In y                                                                                                          \n",
      " Pak                                                                                                                                                                                                                                                                                                                                                                                                                         \n",
      " Pak ant Ioberrer yot  are the ing s one the wor mong the the thinat sng moniat thersere we the the  and wo tonn thery thin  ang ing and fan the yherint s the ting ing whe thor ther  tor isss iot wang sor tion bare e sasole tore the wor aot are the hatit    of ang Io than  ing the to the the e sond the the the the thand thate tout toe  oun to pe me to the wore se the sveren themin wore dour the hoo  ang the  a\n",
      " Pake theae ant  an thar ant  or the thet I thas thou bourand  f be  oodme the the dorerecl f in to  on ang an the tithe ie the cole ind ange loathang the t  ore I aoes at  out thes in altito c  and ant the  any are cot an the mon courer winecang irt wor ae ind yor tore s se Iou in is alre pis  ing the ingut al wu the pole we ing lit ins sand iming ant poeng wond at se bothang e ane ac le  ang won tant aod mon\n",
      " Pake cit eve the ing                                                                                                                                                                                                                                                                                                                                                                                                        \n",
      " Pake the theot  e an-  e then te ing  ant  the  ane thes  u we he lererthant                                                                                                                                                                                                                                                                                                                                                \n",
      " Pak in.it the the wit ing alist ing an ang fu bory sosre tour e saming Ioud the aas the ars ce winr the sorer  int ing ang tore it                                                                                                                                                                                                                                                                                          \n",
      " Pak and  areas the ton therore be toe alt wo   f sore an the an toungon wong ale the thou din sene ine  eo in ang as in the e s yon sily the e thalde ther the  and the the torre er arin    ouct                                                                                                                                                                                                                           \n"
     ]
    }
   ],
   "source": [
    "def generate_sample(char_rnn, seed_phrase=' ', max_length=MAX_LENGTH, temperature=0.5):\n",
    "    x_sequence = [token_to_id[token] for token in seed_phrase]\n",
    "    x_sequence = torch.tensor([x_sequence], dtype=torch.int64)\n",
    "    hid_state = char_rnn.initial_state(batch_size=1)\n",
    "    \n",
    "    for i in range(len(seed_phrase) - 1):\n",
    "        hid_state, _ = char_rnn(x_sequence[:, i], hid_state)\n",
    "        \n",
    "    for _ in range(max_length - len(seed_phrase)):\n",
    "        hid_state, logp_next = char_rnn(x_sequence[:, -1], hid_state)\n",
    "        p_next = F.softmax(logp_next / temperature, dim=1).data.numpy()[0]\n",
    "        \n",
    "        next_ix = np.random.choice(len(tokens), p=p_next)\n",
    "        next_ix = torch.tensor([[next_ix]], dtype=torch.int64)\n",
    "        x_sequence = torch.cat([x_sequence, next_ix], dim=1)\n",
    "        \n",
    "    return ''.join([tokens[ix] for ix in x_sequence.data.numpy()[0]])\n",
    "    \n",
    "\n",
    "for _ in range(10):\n",
    "    print(generate_sample(char_rnn))\n",
    "\n",
    "for _ in range(10):\n",
    "    print(generate_sample(char_rnn, seed_phrase=' Pak'))"
   ]
  },
  {
   "cell_type": "code",
   "execution_count": null,
   "metadata": {},
   "outputs": [],
   "source": []
  }
 ],
 "metadata": {
  "kernelspec": {
   "display_name": "Python 3",
   "language": "python",
   "name": "python3"
  },
  "language_info": {
   "codemirror_mode": {
    "name": "ipython",
    "version": 3
   },
   "file_extension": ".py",
   "mimetype": "text/x-python",
   "name": "python",
   "nbconvert_exporter": "python",
   "pygments_lexer": "ipython3",
   "version": "3.8.3"
  }
 },
 "nbformat": 4,
 "nbformat_minor": 4
}
